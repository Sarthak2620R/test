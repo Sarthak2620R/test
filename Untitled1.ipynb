{
 "cells": [
  {
   "cell_type": "code",
   "execution_count": 2,
   "id": "434d0960",
   "metadata": {},
   "outputs": [
    {
     "name": "stdout",
     "output_type": "stream",
     "text": [
      "56\n"
     ]
    }
   ],
   "source": [
    "my23=56\n",
    "print(my23)"
   ]
  },
  {
   "cell_type": "code",
   "execution_count": 3,
   "id": "e4677f44",
   "metadata": {},
   "outputs": [
    {
     "name": "stdout",
     "output_type": "stream",
     "text": [
      "26\n"
     ]
    }
   ],
   "source": [
    "a,b=16,10\n",
    "print(a+b)"
   ]
  },
  {
   "cell_type": "code",
   "execution_count": 4,
   "id": "92b20bae",
   "metadata": {},
   "outputs": [],
   "source": [
    "#hello nepal\n"
   ]
  },
  {
   "cell_type": "code",
   "execution_count": 5,
   "id": "857ed4e5",
   "metadata": {},
   "outputs": [
    {
     "data": {
      "text/plain": [
       "'This is nepal\\nthis is nepal\\nthis is nepal\\nthois is nepal\\ni am nepali'"
      ]
     },
     "execution_count": 5,
     "metadata": {},
     "output_type": "execute_result"
    }
   ],
   "source": [
    "\"\"\"This is nepal\n",
    "this is nepal\n",
    "this is nepal\n",
    "thois is nepal\n",
    "i am nepali\"\"\""
   ]
  },
  {
   "cell_type": "code",
   "execution_count": 11,
   "id": "db064356",
   "metadata": {},
   "outputs": [
    {
     "ename": "TypeError",
     "evalue": "'x' is an invalid keyword argument for print()",
     "output_type": "error",
     "traceback": [
      "\u001b[1;31m---------------------------------------------------------------------------\u001b[0m",
      "\u001b[1;31mTypeError\u001b[0m                                 Traceback (most recent call last)",
      "Cell \u001b[1;32mIn[11], line 2\u001b[0m\n\u001b[0;32m      1\u001b[0m x\u001b[38;5;241m=\u001b[39m[\u001b[38;5;124m\"\u001b[39m\u001b[38;5;124mnepal\u001b[39m\u001b[38;5;124m\"\u001b[39m,\u001b[38;5;124m\"\u001b[39m\u001b[38;5;124mindia\u001b[39m\u001b[38;5;124m\"\u001b[39m,\u001b[38;5;124m\"\u001b[39m\u001b[38;5;124mchina\u001b[39m\u001b[38;5;124m\"\u001b[39m]\n\u001b[1;32m----> 2\u001b[0m \u001b[38;5;28mprint\u001b[39m(x,x\u001b[38;5;241m=\u001b[39m\u001b[38;5;241m2\u001b[39m)\n",
      "\u001b[1;31mTypeError\u001b[0m: 'x' is an invalid keyword argument for print()"
     ]
    }
   ],
   "source": [
    "x=[\"nepal\",\"india\",\"china\"]\n",
    "print(x,x=2)"
   ]
  },
  {
   "cell_type": "code",
   "execution_count": 12,
   "id": "bda2dfca",
   "metadata": {},
   "outputs": [
    {
     "ename": "NameError",
     "evalue": "name 'none' is not defined",
     "output_type": "error",
     "traceback": [
      "\u001b[1;31m---------------------------------------------------------------------------\u001b[0m",
      "\u001b[1;31mNameError\u001b[0m                                 Traceback (most recent call last)",
      "Cell \u001b[1;32mIn[12], line 1\u001b[0m\n\u001b[1;32m----> 1\u001b[0m x\u001b[38;5;241m=\u001b[39mnone\n",
      "\u001b[1;31mNameError\u001b[0m: name 'none' is not defined"
     ]
    }
   ],
   "source": [
    "x=none"
   ]
  },
  {
   "cell_type": "code",
   "execution_count": 13,
   "id": "d08cdc22",
   "metadata": {},
   "outputs": [
    {
     "name": "stdout",
     "output_type": "stream",
     "text": [
      "None\n"
     ]
    }
   ],
   "source": [
    "x=None \n",
    "print(x)"
   ]
  },
  {
   "cell_type": "code",
   "execution_count": 14,
   "id": "f8eea716",
   "metadata": {},
   "outputs": [
    {
     "data": {
      "text/plain": [
       "'e'"
      ]
     },
     "execution_count": 14,
     "metadata": {},
     "output_type": "execute_result"
    }
   ],
   "source": [
    "test=\"nepal ism the best nation \"\n",
    "test[1]\n"
   ]
  },
  {
   "cell_type": "code",
   "execution_count": 17,
   "id": "a75e5a5b",
   "metadata": {},
   "outputs": [
    {
     "data": {
      "text/plain": [
       "'n'"
      ]
     },
     "execution_count": 17,
     "metadata": {},
     "output_type": "execute_result"
    }
   ],
   "source": [
    "test[0]"
   ]
  },
  {
   "cell_type": "code",
   "execution_count": 18,
   "id": "65718e43",
   "metadata": {},
   "outputs": [
    {
     "data": {
      "text/plain": [
       "26"
      ]
     },
     "execution_count": 18,
     "metadata": {},
     "output_type": "execute_result"
    }
   ],
   "source": [
    "len(test)"
   ]
  },
  {
   "cell_type": "code",
   "execution_count": 19,
   "id": "e86fd8b4",
   "metadata": {},
   "outputs": [
    {
     "name": "stdout",
     "output_type": "stream",
     "text": [
      "n\n",
      "e\n",
      "p\n",
      "a\n",
      "l\n",
      " \n",
      "i\n",
      "s\n",
      "m\n",
      " \n",
      "t\n",
      "h\n",
      "e\n",
      " \n",
      "b\n",
      "e\n",
      "s\n",
      "t\n",
      " \n",
      "n\n",
      "a\n",
      "t\n",
      "i\n",
      "o\n",
      "n\n",
      " \n"
     ]
    }
   ],
   "source": [
    "for i in test:\n",
    "    print(i)"
   ]
  },
  {
   "cell_type": "code",
   "execution_count": 22,
   "id": "3eca95bf",
   "metadata": {},
   "outputs": [
    {
     "data": {
      "text/plain": [
       "'nepal ism t'"
      ]
     },
     "execution_count": 22,
     "metadata": {},
     "output_type": "execute_result"
    }
   ],
   "source": [
    "test[0:11]\n"
   ]
  },
  {
   "cell_type": "code",
   "execution_count": 25,
   "id": "7da74f0c",
   "metadata": {},
   "outputs": [
    {
     "data": {
      "text/plain": [
       "'NEPAL'"
      ]
     },
     "execution_count": 25,
     "metadata": {},
     "output_type": "execute_result"
    }
   ],
   "source": [
    "a=\"nepal\"\n",
    "a.upper()"
   ]
  },
  {
   "cell_type": "code",
   "execution_count": 27,
   "id": "5ee2bf81",
   "metadata": {},
   "outputs": [
    {
     "data": {
      "text/plain": [
       "'nepal ism the best nation'"
      ]
     },
     "execution_count": 27,
     "metadata": {},
     "output_type": "execute_result"
    }
   ],
   "source": [
    "test.strip()"
   ]
  },
  {
   "cell_type": "code",
   "execution_count": 30,
   "id": "c2cb0395",
   "metadata": {},
   "outputs": [
    {
     "name": "stdout",
     "output_type": "stream",
     "text": [
      "   nepal is a very good netation\n"
     ]
    }
   ],
   "source": [
    "y=\"\"\"   nepal is a very good netation\"\"\"\n",
    "y.strip()\n",
    "print(y)"
   ]
  },
  {
   "cell_type": "raw",
   "id": "c06d49bb",
   "metadata": {},
   "source": []
  },
  {
   "cell_type": "code",
   "execution_count": 32,
   "id": "7c8c4935",
   "metadata": {},
   "outputs": [
    {
     "ename": "SyntaxError",
     "evalue": "invalid syntax (1936439736.py, line 1)",
     "output_type": "error",
     "traceback": [
      "\u001b[1;36m  Cell \u001b[1;32mIn[32], line 1\u001b[1;36m\u001b[0m\n\u001b[1;33m    y.replace(n:a)\u001b[0m\n\u001b[1;37m               ^\u001b[0m\n\u001b[1;31mSyntaxError\u001b[0m\u001b[1;31m:\u001b[0m invalid syntax\n"
     ]
    }
   ],
   "source": [
    "y.replace(n:a)"
   ]
  },
  {
   "cell_type": "code",
   "execution_count": 34,
   "id": "6b456eaf",
   "metadata": {},
   "outputs": [
    {
     "name": "stdout",
     "output_type": "stream",
     "text": [
      "False\n"
     ]
    }
   ],
   "source": [
    "a=15 \n",
    "b=20\n",
    "print(a>b)"
   ]
  },
  {
   "cell_type": "code",
   "execution_count": 35,
   "id": "bdbd33a3",
   "metadata": {},
   "outputs": [
    {
     "ename": "NameError",
     "evalue": "name 'dec' is not defined",
     "output_type": "error",
     "traceback": [
      "\u001b[1;31m---------------------------------------------------------------------------\u001b[0m",
      "\u001b[1;31mNameError\u001b[0m                                 Traceback (most recent call last)",
      "Cell \u001b[1;32mIn[35], line 2\u001b[0m\n\u001b[0;32m      1\u001b[0m \u001b[38;5;28mbin\u001b[39m(\u001b[38;5;241m111\u001b[39m)\n\u001b[1;32m----> 2\u001b[0m dec(\u001b[38;5;28mbin\u001b[39m)\n",
      "\u001b[1;31mNameError\u001b[0m: name 'dec' is not defined"
     ]
    }
   ],
   "source": [
    "bin(111)\n",
    "dec(bin)"
   ]
  },
  {
   "cell_type": "code",
   "execution_count": 47,
   "id": "90017d35",
   "metadata": {},
   "outputs": [
    {
     "name": "stdout",
     "output_type": "stream",
     "text": [
      "Enter a number?1\n",
      "enter second number?2\n",
      "Sum = 3\n",
      "multiplication= 2\n",
      "mod= 1\n",
      "division= 0.5\n",
      "quotient= 0\n",
      "is a>b = False\n"
     ]
    }
   ],
   "source": [
    "a=int(input(\"Enter a number?\"))\n",
    "b=int(input(\"enter second number?\"))\n",
    "print(\"Sum =\",a+b)\n",
    "print(\"multiplication=\", a*b)\n",
    "print(\"mod=\", a%b)\n",
    "print(\"division=\",a/b)\n",
    "print(\"quotient=\",a//b)\n",
    "print(\"is a>b =\", a>b)"
   ]
  },
  {
   "cell_type": "code",
   "execution_count": null,
   "id": "2061fff3",
   "metadata": {},
   "outputs": [],
   "source": []
  }
 ],
 "metadata": {
  "kernelspec": {
   "display_name": "Python 3 (ipykernel)",
   "language": "python",
   "name": "python3"
  },
  "language_info": {
   "codemirror_mode": {
    "name": "ipython",
    "version": 3
   },
   "file_extension": ".py",
   "mimetype": "text/x-python",
   "name": "python",
   "nbconvert_exporter": "python",
   "pygments_lexer": "ipython3",
   "version": "3.11.5"
  }
 },
 "nbformat": 4,
 "nbformat_minor": 5
}
